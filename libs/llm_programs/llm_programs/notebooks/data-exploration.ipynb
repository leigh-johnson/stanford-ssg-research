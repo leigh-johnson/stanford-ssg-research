{
 "cells": [
  {
   "cell_type": "code",
   "execution_count": 6,
   "metadata": {},
   "outputs": [],
   "source": [
    "import os\n",
    "import json\n",
    "from llm_programs.tasks import load_task\n",
    "\n",
    "TASK = \"gsm8k\"\n",
    "PROMPT_TEMPLATE = \"few_shot_direct\"\n",
    "CACHE_DIR = \"/mnt/spindle/stanford-ssg-research/.cache\"\n",
    "\n",
    "os.environ[\"TRANSFORMERS_CACHE\"] = CACHE_DIR\n",
    "os.environ[\"HF_DATASETS_CACHE\"] = CACHE_DIR\n",
    "task_runner = load_task(TASK)(prompt_template=PROMPT_TEMPLATE)\n",
    "dataset = task_runner.load_dataset()"
   ]
  },
  {
   "cell_type": "code",
   "execution_count": 17,
   "metadata": {},
   "outputs": [
    {
     "data": {
      "text/plain": [
       "DatasetInfo(description='GSM8K (Grade School Math 8K) is a dataset of 8.5K high quality\\nlinguistically diverse grade school math word problems. The\\ndataset was created to support the task of question answering\\non basic mathematical problems that require multi-step reasoning.\\n', citation='@misc{cobbe2021training,\\n      title={Training Verifiers to Solve Math Word Problems},\\n      author={Karl Cobbe and Vineet Kosaraju and Mohammad Bavarian and Jacob Hilton and Reiichiro Nakano and Christopher Hesse and John Schulman},\\n      year={2021},\\n      eprint={2110.14168},\\n      archivePrefix={arXiv},\\n      primaryClass={cs.LG}\\n}\\n', homepage='https://openai.com/blog/grade-school-math', license='MIT', features={'question': Value(dtype='string', id=None), 'answer': Value(dtype='string', id=None)}, post_processed=None, supervised_keys=None, task_templates=None, builder_name='gsm8k', dataset_name='gsm8k', config_name='main', version=1.1.0, splits={'train': SplitInfo(name='train', num_bytes=3963202, num_examples=7473, shard_lengths=None, dataset_name=None), 'test': SplitInfo(name='test', num_bytes=713732, num_examples=1319, shard_lengths=None, dataset_name=None)}, download_checksums=None, download_size=4915944, post_processing_size=None, dataset_size=4676934, size_in_bytes=None)"
      ]
     },
     "execution_count": 17,
     "metadata": {},
     "output_type": "execute_result"
    }
   ],
   "source": [
    "dataset[\"train\"].info"
   ]
  },
  {
   "cell_type": "code",
   "execution_count": 21,
   "metadata": {},
   "outputs": [
    {
     "data": {
      "text/plain": [
       "[{'question': 'Natalia sold clips to 48 of her friends in April, and then she sold half as many clips in May. How many clips did Natalia sell altogether in April and May?',\n",
       "  'answer': 'Natalia sold 48/2 = <<48/2=24>>24 clips in May.\\nNatalia sold 48+24 = <<48+24=72>>72 clips altogether in April and May.\\n#### 72'},\n",
       " {'question': 'Weng earns $12 an hour for babysitting. Yesterday, she just did 50 minutes of babysitting. How much did she earn?',\n",
       "  'answer': 'Weng earns 12/60 = $<<12/60=0.2>>0.2 per minute.\\nWorking 50 minutes, she earned 0.2 x 50 = $<<0.2*50=10>>10.\\n#### 10'},\n",
       " {'question': 'Betty is saving money for a new wallet which costs $100. Betty has only half of the money she needs. Her parents decided to give her $15 for that purpose, and her grandparents twice as much as her parents. How much more money does Betty need to buy the wallet?',\n",
       "  'answer': \"In the beginning, Betty has only 100 / 2 = $<<100/2=50>>50.\\nBetty's grandparents gave her 15 * 2 = $<<15*2=30>>30.\\nThis means, Betty needs 100 - 50 - 30 - 15 = $<<100-50-30-15=5>>5 more.\\n#### 5\"},\n",
       " {'question': 'Julie is reading a 120-page book. Yesterday, she was able to read 12 pages and today, she read twice as many pages as yesterday. If she wants to read half of the remaining pages tomorrow, how many pages should she read?',\n",
       "  'answer': 'Maila read 12 x 2 = <<12*2=24>>24 pages today.\\nSo she was able to read a total of 12 + 24 = <<12+24=36>>36 pages since yesterday.\\nThere are 120 - 36 = <<120-36=84>>84 pages left to be read.\\nSince she wants to read half of the remaining pages tomorrow, then she should read 84/2 = <<84/2=42>>42 pages.\\n#### 42'},\n",
       " {'question': 'James writes a 3-page letter to 2 different friends twice a week.  How many pages does he write a year?',\n",
       "  'answer': 'He writes each friend 3*2=<<3*2=6>>6 pages a week\\nSo he writes 6*2=<<6*2=12>>12 pages every week\\nThat means he writes 12*52=<<12*52=624>>624 pages a year\\n#### 624'}]"
      ]
     },
     "execution_count": 21,
     "metadata": {},
     "output_type": "execute_result"
    }
   ],
   "source": [
    "list(dataset[\"train\"].take(5))"
   ]
  },
  {
   "cell_type": "code",
   "execution_count": null,
   "metadata": {},
   "outputs": [],
   "source": [
    "# Calculation annotations are documented here: https://github.com/openai/grade-school-math#calculation-annotations\n",
    "# <<X+Y=Z>> notation is used is identify the calculation performed\n",
    "# The final numeric solution for a particular question appears after the #### token"
   ]
  }
 ],
 "metadata": {
  "kernelspec": {
   "display_name": "Python 3 (ipykernel)",
   "language": "python",
   "name": "python3"
  },
  "language_info": {
   "codemirror_mode": {
    "name": "ipython",
    "version": 3
   },
   "file_extension": ".py",
   "mimetype": "text/x-python",
   "name": "python",
   "nbconvert_exporter": "python",
   "pygments_lexer": "ipython3",
   "version": "3.11.5"
  }
 },
 "nbformat": 4,
 "nbformat_minor": 2
}
