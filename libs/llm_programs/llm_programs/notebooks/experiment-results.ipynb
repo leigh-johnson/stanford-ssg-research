{
 "cells": [
  {
   "cell_type": "code",
   "execution_count": 3,
   "metadata": {},
   "outputs": [],
   "source": [
    "import pandas as pd\n",
    "import plotly.express as px\n",
    "import datasets"
   ]
  },
  {
   "cell_type": "code",
   "execution_count": 6,
   "metadata": {},
   "outputs": [
    {
     "name": "stdout",
     "output_type": "stream",
     "text": [
      "experiment_num  zero_shot_direct__accuracy\n",
      "0               False                         970\n",
      "                True                          349\n",
      "1               False                         995\n",
      "                True                          324\n",
      "2               False                         979\n",
      "                True                          340\n",
      "3               False                         980\n",
      "                True                          339\n",
      "Name: count, dtype: int64\n"
     ]
    },
    {
     "ename": "ValueError",
     "evalue": "Value of 'x' is not the name of a column in 'data_frame'. Expected one of ['count'] but received: experiment_num",
     "output_type": "error",
     "traceback": [
      "\u001b[0;31m---------------------------------------------------------------------------\u001b[0m",
      "\u001b[0;31mValueError\u001b[0m                                Traceback (most recent call last)",
      "\u001b[1;32m/mnt/spindle/stanford-ssg-research/libs/llm_programs/llm_programs/notebooks/experiment-results.ipynb Cell 2\u001b[0m line \u001b[0;36m2\n\u001b[1;32m     <a href='vscode-notebook-cell://ssh-remote%2Baurora/mnt/spindle/stanford-ssg-research/libs/llm_programs/llm_programs/notebooks/experiment-results.ipynb#W1sdnNjb2RlLXJlbW90ZQ%3D%3D?line=23'>24</a>\u001b[0m \u001b[39m# ZERO_SHOT_DATASETS\u001b[39;00m\n\u001b[1;32m     <a href='vscode-notebook-cell://ssh-remote%2Baurora/mnt/spindle/stanford-ssg-research/libs/llm_programs/llm_programs/notebooks/experiment-results.ipynb#W1sdnNjb2RlLXJlbW90ZQ%3D%3D?line=24'>25</a>\u001b[0m \u001b[39mprint\u001b[39m(ZERO_SHOT_DF)\n\u001b[0;32m---> <a href='vscode-notebook-cell://ssh-remote%2Baurora/mnt/spindle/stanford-ssg-research/libs/llm_programs/llm_programs/notebooks/experiment-results.ipynb#W1sdnNjb2RlLXJlbW90ZQ%3D%3D?line=25'>26</a>\u001b[0m fig \u001b[39m=\u001b[39m px\u001b[39m.\u001b[39;49mbar(ZERO_SHOT_DF, x\u001b[39m=\u001b[39;49m\u001b[39m\"\u001b[39;49m\u001b[39mexperiment_num\u001b[39;49m\u001b[39m\"\u001b[39;49m, y\u001b[39m=\u001b[39;49m\u001b[39m\"\u001b[39;49m\u001b[39mcount\u001b[39;49m\u001b[39m\"\u001b[39;49m, color\u001b[39m=\u001b[39;49m\u001b[39m\"\u001b[39;49m\u001b[39mzero_shot_direct__accuracy\u001b[39;49m\u001b[39m\"\u001b[39;49m)\n\u001b[1;32m     <a href='vscode-notebook-cell://ssh-remote%2Baurora/mnt/spindle/stanford-ssg-research/libs/llm_programs/llm_programs/notebooks/experiment-results.ipynb#W1sdnNjb2RlLXJlbW90ZQ%3D%3D?line=26'>27</a>\u001b[0m fig\u001b[39m.\u001b[39mshow()\n",
      "File \u001b[0;32m~/.cache/pypoetry/virtualenvs/llm-programs-tlAmQoB2-py3.11/lib/python3.11/site-packages/plotly/express/_chart_types.py:373\u001b[0m, in \u001b[0;36mbar\u001b[0;34m(data_frame, x, y, color, pattern_shape, facet_row, facet_col, facet_col_wrap, facet_row_spacing, facet_col_spacing, hover_name, hover_data, custom_data, text, base, error_x, error_x_minus, error_y, error_y_minus, animation_frame, animation_group, category_orders, labels, color_discrete_sequence, color_discrete_map, color_continuous_scale, pattern_shape_sequence, pattern_shape_map, range_color, color_continuous_midpoint, opacity, orientation, barmode, log_x, log_y, range_x, range_y, text_auto, title, template, width, height)\u001b[0m\n\u001b[1;32m    325\u001b[0m \u001b[39mdef\u001b[39;00m \u001b[39mbar\u001b[39m(\n\u001b[1;32m    326\u001b[0m     data_frame\u001b[39m=\u001b[39m\u001b[39mNone\u001b[39;00m,\n\u001b[1;32m    327\u001b[0m     x\u001b[39m=\u001b[39m\u001b[39mNone\u001b[39;00m,\n\u001b[0;32m   (...)\u001b[0m\n\u001b[1;32m    367\u001b[0m     height\u001b[39m=\u001b[39m\u001b[39mNone\u001b[39;00m,\n\u001b[1;32m    368\u001b[0m ) \u001b[39m-\u001b[39m\u001b[39m>\u001b[39m go\u001b[39m.\u001b[39mFigure:\n\u001b[1;32m    369\u001b[0m \u001b[39m    \u001b[39m\u001b[39m\"\"\"\u001b[39;00m\n\u001b[1;32m    370\u001b[0m \u001b[39m    In a bar plot, each row of `data_frame` is represented as a rectangular\u001b[39;00m\n\u001b[1;32m    371\u001b[0m \u001b[39m    mark.\u001b[39;00m\n\u001b[1;32m    372\u001b[0m \u001b[39m    \"\"\"\u001b[39;00m\n\u001b[0;32m--> 373\u001b[0m     \u001b[39mreturn\u001b[39;00m make_figure(\n\u001b[1;32m    374\u001b[0m         args\u001b[39m=\u001b[39;49m\u001b[39mlocals\u001b[39;49m(),\n\u001b[1;32m    375\u001b[0m         constructor\u001b[39m=\u001b[39;49mgo\u001b[39m.\u001b[39;49mBar,\n\u001b[1;32m    376\u001b[0m         trace_patch\u001b[39m=\u001b[39;49m\u001b[39mdict\u001b[39;49m(textposition\u001b[39m=\u001b[39;49m\u001b[39m\"\u001b[39;49m\u001b[39mauto\u001b[39;49m\u001b[39m\"\u001b[39;49m),\n\u001b[1;32m    377\u001b[0m         layout_patch\u001b[39m=\u001b[39;49m\u001b[39mdict\u001b[39;49m(barmode\u001b[39m=\u001b[39;49mbarmode),\n\u001b[1;32m    378\u001b[0m     )\n",
      "File \u001b[0;32m~/.cache/pypoetry/virtualenvs/llm-programs-tlAmQoB2-py3.11/lib/python3.11/site-packages/plotly/express/_core.py:2076\u001b[0m, in \u001b[0;36mmake_figure\u001b[0;34m(args, constructor, trace_patch, layout_patch)\u001b[0m\n\u001b[1;32m   2073\u001b[0m layout_patch \u001b[39m=\u001b[39m layout_patch \u001b[39mor\u001b[39;00m {}\n\u001b[1;32m   2074\u001b[0m apply_default_cascade(args)\n\u001b[0;32m-> 2076\u001b[0m args \u001b[39m=\u001b[39m build_dataframe(args, constructor)\n\u001b[1;32m   2077\u001b[0m \u001b[39mif\u001b[39;00m constructor \u001b[39min\u001b[39;00m [go\u001b[39m.\u001b[39mTreemap, go\u001b[39m.\u001b[39mSunburst, go\u001b[39m.\u001b[39mIcicle] \u001b[39mand\u001b[39;00m args[\u001b[39m\"\u001b[39m\u001b[39mpath\u001b[39m\u001b[39m\"\u001b[39m] \u001b[39mis\u001b[39;00m \u001b[39mnot\u001b[39;00m \u001b[39mNone\u001b[39;00m:\n\u001b[1;32m   2078\u001b[0m     args \u001b[39m=\u001b[39m process_dataframe_hierarchy(args)\n",
      "File \u001b[0;32m~/.cache/pypoetry/virtualenvs/llm-programs-tlAmQoB2-py3.11/lib/python3.11/site-packages/plotly/express/_core.py:1485\u001b[0m, in \u001b[0;36mbuild_dataframe\u001b[0;34m(args, constructor)\u001b[0m\n\u001b[1;32m   1482\u001b[0m     args[\u001b[39m\"\u001b[39m\u001b[39mcolor\u001b[39m\u001b[39m\"\u001b[39m] \u001b[39m=\u001b[39m \u001b[39mNone\u001b[39;00m\n\u001b[1;32m   1483\u001b[0m \u001b[39m# now that things have been prepped, we do the systematic rewriting of `args`\u001b[39;00m\n\u001b[0;32m-> 1485\u001b[0m df_output, wide_id_vars \u001b[39m=\u001b[39m process_args_into_dataframe(\n\u001b[1;32m   1486\u001b[0m     args, wide_mode, var_name, value_name\n\u001b[1;32m   1487\u001b[0m )\n\u001b[1;32m   1489\u001b[0m \u001b[39m# now that `df_output` exists and `args` contains only references, we complete\u001b[39;00m\n\u001b[1;32m   1490\u001b[0m \u001b[39m# the special-case and wide-mode handling by further rewriting args and/or mutating\u001b[39;00m\n\u001b[1;32m   1491\u001b[0m \u001b[39m# df_output\u001b[39;00m\n\u001b[1;32m   1493\u001b[0m count_name \u001b[39m=\u001b[39m _escape_col_name(df_output, \u001b[39m\"\u001b[39m\u001b[39mcount\u001b[39m\u001b[39m\"\u001b[39m, [var_name, value_name])\n",
      "File \u001b[0;32m~/.cache/pypoetry/virtualenvs/llm-programs-tlAmQoB2-py3.11/lib/python3.11/site-packages/plotly/express/_core.py:1210\u001b[0m, in \u001b[0;36mprocess_args_into_dataframe\u001b[0;34m(args, wide_mode, var_name, value_name)\u001b[0m\n\u001b[1;32m   1208\u001b[0m         \u001b[39mif\u001b[39;00m argument \u001b[39m==\u001b[39m \u001b[39m\"\u001b[39m\u001b[39mindex\u001b[39m\u001b[39m\"\u001b[39m:\n\u001b[1;32m   1209\u001b[0m             err_msg \u001b[39m+\u001b[39m\u001b[39m=\u001b[39m \u001b[39m\"\u001b[39m\u001b[39m\\n\u001b[39;00m\u001b[39m To use the index, pass it in directly as `df.index`.\u001b[39m\u001b[39m\"\u001b[39m\n\u001b[0;32m-> 1210\u001b[0m         \u001b[39mraise\u001b[39;00m \u001b[39mValueError\u001b[39;00m(err_msg)\n\u001b[1;32m   1211\u001b[0m \u001b[39melif\u001b[39;00m length \u001b[39mand\u001b[39;00m \u001b[39mlen\u001b[39m(df_input[argument]) \u001b[39m!=\u001b[39m length:\n\u001b[1;32m   1212\u001b[0m     \u001b[39mraise\u001b[39;00m \u001b[39mValueError\u001b[39;00m(\n\u001b[1;32m   1213\u001b[0m         \u001b[39m\"\u001b[39m\u001b[39mAll arguments should have the same length. \u001b[39m\u001b[39m\"\u001b[39m\n\u001b[1;32m   1214\u001b[0m         \u001b[39m\"\u001b[39m\u001b[39mThe length of column argument `df[\u001b[39m\u001b[39m%s\u001b[39;00m\u001b[39m]` is \u001b[39m\u001b[39m%d\u001b[39;00m\u001b[39m, whereas the \u001b[39m\u001b[39m\"\u001b[39m\n\u001b[0;32m   (...)\u001b[0m\n\u001b[1;32m   1221\u001b[0m         )\n\u001b[1;32m   1222\u001b[0m     )\n",
      "\u001b[0;31mValueError\u001b[0m: Value of 'x' is not the name of a column in 'data_frame'. Expected one of ['count'] but received: experiment_num"
     ]
    }
   ],
   "source": [
    "# load zero-shot direct prompt datasets (baseline)\n",
    "\n",
    "ZERO_SHOT_EXPERIMENTS = [\n",
    "    \"/mnt/spindle/stanford-ssg-research/.cache/experiments/gsm8k_meta-llama/Llama-2-7b-chat-hf_zero_shot_direct_1699902139\",\n",
    "    \"/mnt/spindle/stanford-ssg-research/.cache/experiments/gsm8k_meta-llama/Llama-2-7b-chat-hf_zero_shot_direct_1699889432\",\n",
    "    \"/mnt/spindle/stanford-ssg-research/.cache/experiments/gsm8k_meta-llama/Llama-2-7b-chat-hf_zero_shot_direct_1699844874\",\n",
    "    \"/mnt/spindle/stanford-ssg-research/.cache/experiments/gsm8k_meta-llama/Llama-2-7b-chat-hf_zero_shot_direct_1699828513\",\n",
    "]\n",
    "\n",
    "ZERO_SHOT_DATASETS = []\n",
    "\n",
    "for i, path in enumerate(ZERO_SHOT_EXPERIMENTS):\n",
    "    ds = datasets.load_from_disk(path).with_format(\"pandas\")\n",
    "    df = pd.DataFrame(ds[\"zero_shot_direct__accuracy\"])\n",
    "    df[\"experiment_num\"] = i\n",
    "    ZERO_SHOT_DATASETS.append(df)\n",
    "\n",
    "\n",
    "ZERO_SHOT_DF = pd.concat(ZERO_SHOT_DATASETS).groupby([\"experiment_num\", \"zero_shot_direct__accuracy\"]).value_counts()\n",
    "# ZERO_SHOT_DATASETS\n",
    "print(ZERO_SHOT_DF)\n",
    "fig = px.bar(ZERO_SHOT_DF, x=\"experiment_num\", y=\"count\", color=\"zero_shot_direct__accuracy\")\n",
    "fig.show()"
   ]
  },
  {
   "cell_type": "code",
   "execution_count": 9,
   "metadata": {},
   "outputs": [
    {
     "data": {
      "text/plain": [
       "experiment_num  zero_shot_direct__accuracy\n",
       "0               False                         970\n",
       "                True                          349\n",
       "1               False                         995\n",
       "                True                          324\n",
       "2               False                         979\n",
       "                True                          340\n",
       "3               False                         980\n",
       "                True                          339\n",
       "Name: count, dtype: int64"
      ]
     },
     "execution_count": 9,
     "metadata": {},
     "output_type": "execute_result"
    }
   ],
   "source": [
    "ZERO_SHOT_DF"
   ]
  },
  {
   "cell_type": "code",
   "execution_count": 12,
   "metadata": {},
   "outputs": [
    {
     "data": {
      "text/html": [
       "<div>\n",
       "<style scoped>\n",
       "    .dataframe tbody tr th:only-of-type {\n",
       "        vertical-align: middle;\n",
       "    }\n",
       "\n",
       "    .dataframe tbody tr th {\n",
       "        vertical-align: top;\n",
       "    }\n",
       "\n",
       "    .dataframe thead th {\n",
       "        text-align: right;\n",
       "    }\n",
       "</style>\n",
       "<table border=\"1\" class=\"dataframe\">\n",
       "  <thead>\n",
       "    <tr style=\"text-align: right;\">\n",
       "      <th></th>\n",
       "      <th></th>\n",
       "      <th>count</th>\n",
       "    </tr>\n",
       "    <tr>\n",
       "      <th>experiment_num</th>\n",
       "      <th>zero_shot_direct__accuracy</th>\n",
       "      <th></th>\n",
       "    </tr>\n",
       "  </thead>\n",
       "  <tbody>\n",
       "    <tr>\n",
       "      <th rowspan=\"2\" valign=\"top\">0</th>\n",
       "      <th>False</th>\n",
       "      <td>970</td>\n",
       "    </tr>\n",
       "    <tr>\n",
       "      <th>True</th>\n",
       "      <td>349</td>\n",
       "    </tr>\n",
       "    <tr>\n",
       "      <th rowspan=\"2\" valign=\"top\">1</th>\n",
       "      <th>False</th>\n",
       "      <td>995</td>\n",
       "    </tr>\n",
       "    <tr>\n",
       "      <th>True</th>\n",
       "      <td>324</td>\n",
       "    </tr>\n",
       "    <tr>\n",
       "      <th rowspan=\"2\" valign=\"top\">2</th>\n",
       "      <th>False</th>\n",
       "      <td>979</td>\n",
       "    </tr>\n",
       "    <tr>\n",
       "      <th>True</th>\n",
       "      <td>340</td>\n",
       "    </tr>\n",
       "    <tr>\n",
       "      <th rowspan=\"2\" valign=\"top\">3</th>\n",
       "      <th>False</th>\n",
       "      <td>980</td>\n",
       "    </tr>\n",
       "    <tr>\n",
       "      <th>True</th>\n",
       "      <td>339</td>\n",
       "    </tr>\n",
       "  </tbody>\n",
       "</table>\n",
       "</div>"
      ],
      "text/plain": [
       "                                           count\n",
       "experiment_num zero_shot_direct__accuracy       \n",
       "0              False                         970\n",
       "               True                          349\n",
       "1              False                         995\n",
       "               True                          324\n",
       "2              False                         979\n",
       "               True                          340\n",
       "3              False                         980\n",
       "               True                          339"
      ]
     },
     "execution_count": 12,
     "metadata": {},
     "output_type": "execute_result"
    }
   ],
   "source": [
    "# ZERO_SHOT_DF.pivot(index=\"experiment_num\", columns=[\"zero_shot_direct__accuracy\"])\n",
    "pd.DataFrame(\n",
    "    ZERO_SHOT_DF, columns=[\"experiment_num\", \"zero_shot_direct__accuracy\", \"count\"]\n",
    ")  # .pivot(index=\"experiment_num\", columns=[\"zero_shot_direct__accuracy\"])"
   ]
  },
  {
   "cell_type": "code",
   "execution_count": 14,
   "metadata": {},
   "outputs": [
    {
     "data": {
      "text/plain": [
       "{'question': \"Janet’s ducks lay 16 eggs per day. She eats three for breakfast every morning and bakes muffins for her friends every day with four. She sells the remainder at the farmers' market daily for $2 per fresh duck egg. How much in dollars does she make every day at the farmers' market?\",\n",
       " 'answer': 'Janet sells 16 - 3 - 4 = <<16-3-4=9>>9 duck eggs a day.\\nShe makes 9 * 2 = $<<9*2=18>>18 every day at the farmer’s market.\\n#### 18',\n",
       " 'zero_shot_direct': \" To calculate how much Janet makes at the farmers' market, we need to multiply the number of eggs she has left after she eats three and bakes muffins by the selling price of $2 per egg.\\n\\nLet's do this step by step:\\n\\n1. Number of eggs left after eating 3 eggs for breakfast and baking muffins = 16 - 3 - 4 = 9 eggs\\n2. Total number of eggs sold at the farmers' market = 9 eggs\\n3. Selling price of each egg = $2\\n4. Total amount of money Janet makes at the farmers' market = 9 eggs x $2 per egg = $18\\n\\nTherefore, Janet makes $18 at the farmers' market every day.\",\n",
       " 'zero_shot_direct__accuracy': True}"
      ]
     },
     "execution_count": 14,
     "metadata": {},
     "output_type": "execute_result"
    }
   ],
   "source": [
    "ds = datasets.load_from_disk(ZERO_SHOT_EXPERIMENTS[0])\n",
    "\n",
    "ds[0]"
   ]
  },
  {
   "cell_type": "code",
   "execution_count": null,
   "metadata": {},
   "outputs": [],
   "source": []
  },
  {
   "cell_type": "code",
   "execution_count": 4,
   "metadata": {},
   "outputs": [
    {
     "data": {
      "text/html": [
       "<div>\n",
       "<style scoped>\n",
       "    .dataframe tbody tr th:only-of-type {\n",
       "        vertical-align: middle;\n",
       "    }\n",
       "\n",
       "    .dataframe tbody tr th {\n",
       "        vertical-align: top;\n",
       "    }\n",
       "\n",
       "    .dataframe thead th {\n",
       "        text-align: right;\n",
       "    }\n",
       "</style>\n",
       "<table border=\"1\" class=\"dataframe\">\n",
       "  <thead>\n",
       "    <tr style=\"text-align: right;\">\n",
       "      <th></th>\n",
       "      <th>experiment_num</th>\n",
       "      <th>zero_shot_direct__accuracy</th>\n",
       "      <th>count</th>\n",
       "    </tr>\n",
       "  </thead>\n",
       "  <tbody>\n",
       "    <tr>\n",
       "      <th>0</th>\n",
       "      <td>0</td>\n",
       "      <td>False</td>\n",
       "      <td>970</td>\n",
       "    </tr>\n",
       "    <tr>\n",
       "      <th>1</th>\n",
       "      <td>0</td>\n",
       "      <td>True</td>\n",
       "      <td>349</td>\n",
       "    </tr>\n",
       "    <tr>\n",
       "      <th>2</th>\n",
       "      <td>1</td>\n",
       "      <td>False</td>\n",
       "      <td>995</td>\n",
       "    </tr>\n",
       "    <tr>\n",
       "      <th>3</th>\n",
       "      <td>1</td>\n",
       "      <td>True</td>\n",
       "      <td>324</td>\n",
       "    </tr>\n",
       "    <tr>\n",
       "      <th>4</th>\n",
       "      <td>2</td>\n",
       "      <td>False</td>\n",
       "      <td>979</td>\n",
       "    </tr>\n",
       "    <tr>\n",
       "      <th>5</th>\n",
       "      <td>2</td>\n",
       "      <td>True</td>\n",
       "      <td>340</td>\n",
       "    </tr>\n",
       "    <tr>\n",
       "      <th>6</th>\n",
       "      <td>3</td>\n",
       "      <td>False</td>\n",
       "      <td>980</td>\n",
       "    </tr>\n",
       "    <tr>\n",
       "      <th>7</th>\n",
       "      <td>3</td>\n",
       "      <td>True</td>\n",
       "      <td>339</td>\n",
       "    </tr>\n",
       "  </tbody>\n",
       "</table>\n",
       "</div>"
      ],
      "text/plain": [
       "   experiment_num  zero_shot_direct__accuracy  count\n",
       "0               0                       False    970\n",
       "1               0                        True    349\n",
       "2               1                       False    995\n",
       "3               1                        True    324\n",
       "4               2                       False    979\n",
       "5               2                        True    340\n",
       "6               3                       False    980\n",
       "7               3                        True    339"
      ]
     },
     "execution_count": 4,
     "metadata": {},
     "output_type": "execute_result"
    }
   ],
   "source": [
    "ZERO_SHOT_DF"
   ]
  },
  {
   "cell_type": "code",
   "execution_count": 5,
   "metadata": {},
   "outputs": [],
   "source": [
    "# load zero-shot cot\n",
    "\n",
    "ZERO_SHOT_COT_EXPERIMENTS = [\n",
    "    \"/mnt/spindle/stanford-ssg-research/.cache/experiments/gsm8k_meta-llama/Llama-2-7b-chat-hf_few_shot_auto_cot_num_examples=0_1699981575\",\n",
    "    \"/mnt/spindle/stanford-ssg-research/.cache/experiments/gsm8k_meta-llama/Llama-2-7b-chat-hf_few_shot_auto_cot_num_examples=0_1699940749\",\n",
    "    \"/mnt/spindle/stanford-ssg-research/.cache/experiments/gsm8k_meta-llama/Llama-2-7b-chat-hf_few_shot_auto_cot_num_examples=0_1699938071\",\n",
    "    \"/mnt/spindle/stanford-ssg-research/.cache/experiments/gsm8k_meta-llama/Llama-2-7b-chat-hf_few_shot_auto_cot_num_examples=0_1699986571\",\n",
    "    \"/mnt/spindle/stanford-ssg-research/.cache/experiments/gsm8k_meta-llama/Llama-2-7b-chat-hf_few_shot_auto_cot_num_examples=0_1699991315\",\n",
    "]\n",
    "\n",
    "ONE_SHOT_COT_EXPERIMENTS = [\n",
    "    \"/mnt/spindle/stanford-ssg-research/.cache/experiments/gsm8k_meta-llama/Llama-2-7b-chat-hf_few_shot_auto_cot_num_examples=1_1700007401\",\n",
    "]"
   ]
  },
  {
   "cell_type": "code",
   "execution_count": 6,
   "metadata": {},
   "outputs": [],
   "source": [
    "# load n-shot cot"
   ]
  },
  {
   "cell_type": "code",
   "execution_count": 7,
   "metadata": {},
   "outputs": [],
   "source": [
    "# load 2x n-shot cot"
   ]
  }
 ],
 "metadata": {
  "kernelspec": {
   "display_name": "llm-programs-tlAmQoB2-py3.11",
   "language": "python",
   "name": "python3"
  },
  "language_info": {
   "codemirror_mode": {
    "name": "ipython",
    "version": 3
   },
   "file_extension": ".py",
   "mimetype": "text/x-python",
   "name": "python",
   "nbconvert_exporter": "python",
   "pygments_lexer": "ipython3",
   "version": "3.11.6"
  }
 },
 "nbformat": 4,
 "nbformat_minor": 2
}
